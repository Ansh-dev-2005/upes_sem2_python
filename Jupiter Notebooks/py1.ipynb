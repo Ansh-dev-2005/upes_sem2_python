{
 "cells": [
  {
   "cell_type": "code",
   "execution_count": 1,
   "metadata": {},
   "outputs": [
    {
     "ename": "TypeError",
     "evalue": "'str' object does not support item assignment",
     "output_type": "error",
     "traceback": [
      "\u001b[1;31m---------------------------------------------------------------------------\u001b[0m",
      "\u001b[1;31mTypeError\u001b[0m                                 Traceback (most recent call last)",
      "Cell \u001b[1;32mIn [1], line 2\u001b[0m\n\u001b[0;32m      1\u001b[0m \u001b[39mstr\u001b[39m \u001b[39m=\u001b[39m \u001b[39m\"\u001b[39m\u001b[39mSimple\u001b[39m\u001b[39m\"\u001b[39m\n\u001b[1;32m----> 2\u001b[0m \u001b[39mstr\u001b[39;49m[\u001b[39m1\u001b[39;49m]\u001b[39m=\u001b[39m\u001b[39m'\u001b[39m\u001b[39ma\u001b[39m\u001b[39m'\u001b[39m\n\u001b[0;32m      3\u001b[0m \u001b[39mprint\u001b[39m(\u001b[39mstr\u001b[39m)\n",
      "\u001b[1;31mTypeError\u001b[0m: 'str' object does not support item assignment"
     ]
    }
   ],
   "source": [
    "str = \"Simple\"\n",
    "str[1]='a'\n",
    "print(str)"
   ]
  },
  {
   "cell_type": "code",
   "execution_count": 1,
   "metadata": {},
   "outputs": [
    {
     "name": "stdout",
     "output_type": "stream",
     "text": [
      "id of list:  2758640360128\n",
      "List before modification:  [1, 2, 3, 4, 5, 6, 7, 8, 9, 10]\n",
      "List after modification:  [100, 2, 3, 4, 5, 200, 7, 8, 9, 300]\n",
      "id of list:  2758640360128\n",
      "List after appending:  [100, 2, 3, 4, 5, 200, 7, 8, 9, 300, 400]\n",
      "List after inserting:  [500, 100, 2, 3, 4, 5, 200, 7, 8, 9, 300, 400]\n",
      "List after inserting:  [600, 4, 5, 200, 7, 8, 9, 300, 400]\n",
      "List after extending:  [600, 4, 5, 200, 7, 8, 9, 300, 400, 700, 800, 900]\n",
      "List after popping:  [600, 4, 5, 200, 7, 8, 9, 300, 400, 700, 800]\n"
     ]
    }
   ],
   "source": [
    "# modifying element in a list\n",
    "#\n",
    "# # Path: py21.py\n",
    "\n",
    "list=[1,2,3,4,5,6,7,8,9,10]\n",
    "print(\"id of list: \",id(list))\n",
    "print(\"List before modification: \",list)\n",
    "# Modify element at index 0 \n",
    "list[0]=100\n",
    "# Modify element at index 5\n",
    "list[5]=200\n",
    "# Modify element at index 9\n",
    "list[9]=300\n",
    "print(\"List after modification: \",list)\n",
    "# print id\n",
    "print(\"id of list: \",id(list))\n",
    "# insertion of element in a list\n",
    "# append() method\n",
    "list.append(400)\n",
    "print(\"List after appending: \",list)\n",
    "# insert() method\n",
    "list.insert(0,500)\n",
    "print(\"List after inserting: \",list)\n",
    "#slice operator\n",
    "list[0:4]=[600]\n",
    "print(\"List after inserting: \",list)\n",
    "# extend() method\n",
    "list.extend([700,800,900])\n",
    "print(\"List after extending: \",list)\n",
    "# list.append([1000,1100,1200])\n",
    "# print(\"List after appending: \",list)\n",
    "# deletion of element in a list\n",
    "# pop() method\n",
    "list.pop()\n",
    "print(\"List after popping: \",list)\n",
    "\n",
    "\n"
   ]
  },
  {
   "cell_type": "code",
   "execution_count": 2,
   "metadata": {},
   "outputs": [
    {
     "data": {
      "text/plain": [
       "200"
      ]
     },
     "execution_count": 2,
     "metadata": {},
     "output_type": "execute_result"
    }
   ],
   "source": []
  },
  {
   "cell_type": "code",
   "execution_count": 6,
   "metadata": {},
   "outputs": [
    {
     "name": "stdout",
     "output_type": "stream",
     "text": [
      "List before deleting:  [600, 4, 5, 200, 7, 8, 9, 300]\n",
      "List after popping:  [600, 4, 5, 200, 8, 9, 300]\n"
     ]
    }
   ],
   "source": [
    "# deletion of elemet\n",
    "print(\"List before deleting: \",list)\n",
    "list.pop(4)\n",
    "print(\"List after popping: \",list)"
   ]
  },
  {
   "cell_type": "code",
   "execution_count": 14,
   "metadata": {},
   "outputs": [
    {
     "name": "stdout",
     "output_type": "stream",
     "text": [
      "List after removing:  [4, 5, 8, 9]\n"
     ]
    }
   ],
   "source": [
    "# remove method\n",
    "list.remove(600)\n",
    "print(\"List after removing: \",list)"
   ]
  },
  {
   "cell_type": "code",
   "execution_count": 15,
   "metadata": {},
   "outputs": [
    {
     "name": "stdout",
     "output_type": "stream",
     "text": [
      "List before deleting:  [4, 5, 8, 9]\n"
     ]
    }
   ],
   "source": [
    "print(\"List before deleting: \",list)\n"
   ]
  },
  {
   "cell_type": "code",
   "execution_count": 19,
   "metadata": {},
   "outputs": [
    {
     "ename": "IndexError",
     "evalue": "list assignment index out of range",
     "output_type": "error",
     "traceback": [
      "\u001b[1;31m---------------------------------------------------------------------------\u001b[0m",
      "\u001b[1;31mIndexError\u001b[0m                                Traceback (most recent call last)",
      "Cell \u001b[1;32mIn [19], line 2\u001b[0m\n\u001b[0;32m      1\u001b[0m \u001b[39m# DEL OPERATOR\u001b[39;00m\n\u001b[1;32m----> 2\u001b[0m \u001b[39mdel\u001b[39;00m \u001b[39mlist\u001b[39m[\u001b[39m0\u001b[39m]\n\u001b[0;32m      3\u001b[0m \u001b[39mprint\u001b[39m(\u001b[39m\"\u001b[39m\u001b[39mList after deleting: \u001b[39m\u001b[39m\"\u001b[39m,\u001b[39mlist\u001b[39m)\n",
      "\u001b[1;31mIndexError\u001b[0m: list assignment index out of range"
     ]
    }
   ],
   "source": [
    "# DEL OPERATOR\n",
    "del list[0]\n",
    "print(\"List after deleting: \",list)"
   ]
  },
  {
   "cell_type": "code",
   "execution_count": 18,
   "metadata": {},
   "outputs": [
    {
     "name": "stdout",
     "output_type": "stream",
     "text": [
      "List after clearing:  []\n"
     ]
    }
   ],
   "source": [
    "# method clear()\n",
    "list.clear()\n",
    "print(\"List after clearing: \",list)"
   ]
  },
  {
   "cell_type": "code",
   "execution_count": 23,
   "metadata": {},
   "outputs": [
    {
     "name": "stdout",
     "output_type": "stream",
     "text": [
      "Length of list:  10\n",
      "Sum of elements in list:  55\n"
     ]
    }
   ],
   "source": [
    "#create new list\n",
    "list=[1,2,3,4,5,6,7,8,9,10]\n",
    "# use len() function\n",
    "print(\"Length of list: \",len(list))\n",
    "#sum of elements in list\n",
    "\n",
    "print(\"Sum of elements in list: \",sum(list))\n"
   ]
  },
  {
   "cell_type": "code",
   "execution_count": 24,
   "metadata": {},
   "outputs": [
    {
     "name": "stdout",
     "output_type": "stream",
     "text": [
      "List after sorting:  [1, 2, 3, 4, 5, 6, 7, 8, 9, 10]\n"
     ]
    }
   ],
   "source": [
    "# sort list\n",
    "list.sort()\n",
    "print(\"List after sorting: \",list)"
   ]
  },
  {
   "cell_type": "code",
   "execution_count": null,
   "metadata": {},
   "outputs": [],
   "source": []
  },
  {
   "cell_type": "markdown",
   "metadata": {},
   "source": []
  }
 ],
 "metadata": {
  "kernelspec": {
   "display_name": "Python 3",
   "language": "python",
   "name": "python3"
  },
  "language_info": {
   "codemirror_mode": {
    "name": "ipython",
    "version": 3
   },
   "file_extension": ".py",
   "mimetype": "text/x-python",
   "name": "python",
   "nbconvert_exporter": "python",
   "pygments_lexer": "ipython3",
   "version": "3.10.7"
  },
  "orig_nbformat": 4,
  "vscode": {
   "interpreter": {
    "hash": "ba37d69516b96b2df66115ef342e83722e1a1518f5d2e0ee41eb08141fa2fe2a"
   }
  }
 },
 "nbformat": 4,
 "nbformat_minor": 2
}
